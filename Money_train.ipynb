{
  "nbformat": 4,
  "nbformat_minor": 0,
  "metadata": {
    "colab": {
      "provenance": [],
      "include_colab_link": true
    },
    "kernelspec": {
      "name": "python3",
      "display_name": "Python 3"
    },
    "language_info": {
      "name": "python"
    },
    "accelerator": "GPU",
    "gpuClass": "standard"
  },
  "cells": [
    {
      "cell_type": "markdown",
      "metadata": {
        "id": "view-in-github",
        "colab_type": "text"
      },
      "source": [
        "<a href=\"https://colab.research.google.com/github/pinkee2611/ML/blob/main/Money_train.ipynb\" target=\"_parent\"><img src=\"https://colab.research.google.com/assets/colab-badge.svg\" alt=\"Open In Colab\"/></a>"
      ]
    },
    {
      "cell_type": "code",
      "execution_count": 5,
      "metadata": {
        "id": "AAhxOqrPn3ne"
      },
      "outputs": [],
      "source": [
        "#import thư viện\n",
        "import numpy as np\n",
        "from os import listdir\n",
        "from numpy import asarray, save\n",
        "from keras.utils import load_img, img_to_array, to_categorical\n",
        "from keras.models import Sequential, load_model\n",
        "from keras.layers import Dense,Dropout,Flatten,Conv2D,MaxPooling2D,Normalization,LeakyReLU\n",
        "from keras.optimizers import Adam\n",
        "from keras.losses import categorical_crossentropy\n",
        "import matplotlib.pyplot as plt\n",
        "from keras.utils.image_utils import img_to_array"
      ]
    },
    {
      "cell_type": "code",
      "source": [
        "#load folder datasets\n",
        "folder = '/content/drive/MyDrive/FaceValueOfMoney/'\n",
        "#tiến hành tiền xử lý dữ liệu\n",
        "photos, labels = list(), list()\n",
        "for file in listdir(folder):\n",
        "  output = 0.0\n",
        "  if file.startswith('5k'):\n",
        "    output = 1.0\n",
        "  if file.startswith('10k'):\n",
        "    output = 2.0\n",
        "  if file.startswith('20k'):\n",
        "    output = 3.0\n",
        "  if file.startswith('50k'):\n",
        "    output = 4.0\n",
        "  if file.startswith('100k'):\n",
        "    output = 5.0\n",
        "  if file.startswith('500k'):\n",
        "    output = 6.0\n",
        "\n",
        "  img =load_img(folder+file,target_size=(100,200))\n",
        "  photo = img_to_array(img)\n",
        "  photos.append(photo)\n",
        "  labels.append(output)\n",
        "photos = asarray(photos)\n",
        "labels = asarray(labels)\n",
        "print(photos.shape,labels.shape)"
      ],
      "metadata": {
        "colab": {
          "base_uri": "https://localhost:8080/"
        },
        "id": "Qpd7Qkoiopi8",
        "outputId": "ddadde5c-0b25-4333-9435-d171e21c76cb"
      },
      "execution_count": 6,
      "outputs": [
        {
          "output_type": "stream",
          "name": "stdout",
          "text": [
            "(510, 100, 200, 3) (510,)\n"
          ]
        }
      ]
    },
    {
      "cell_type": "code",
      "source": [
        "from google.colab import drive\n",
        "drive.mount('/content/drive')"
      ],
      "metadata": {
        "id": "pRiPBIESDpbu",
        "outputId": "8886d4bb-9735-4a66-a4be-479c63ca04d1",
        "colab": {
          "base_uri": "https://localhost:8080/"
        }
      },
      "execution_count": 1,
      "outputs": [
        {
          "output_type": "stream",
          "name": "stdout",
          "text": [
            "Mounted at /content/drive\n"
          ]
        }
      ]
    },
    {
      "cell_type": "code",
      "source": [
        "# lưu dữ liệu vừa xử lý\n",
        "save('tien_hinh_hoc.npy',photos)\n",
        "save('tien_ten_hoc.npy',labels)"
      ],
      "metadata": {
        "id": "FUvUX49hqgmn"
      },
      "execution_count": 8,
      "outputs": []
    },
    {
      "cell_type": "code",
      "source": [
        "# tạo dữ liệu train\n",
        "x_train = np.load('/content/tien_hinh_hoc.npy')\n",
        "y_train = np.load('/content/tien_ten_hoc.npy')"
      ],
      "metadata": {
        "id": "JHUtb7kEo_Ke"
      },
      "execution_count": 9,
      "outputs": []
    },
    {
      "cell_type": "code",
      "source": [
        "x_train = x_train.astype('float32')/255\n",
        "y_train = to_categorical(y_train,10)"
      ],
      "metadata": {
        "id": "Jei_1vIosUIU"
      },
      "execution_count": 10,
      "outputs": []
    },
    {
      "cell_type": "code",
      "source": [
        "#32 lan tich chap\n",
        "model = Sequential()\n",
        "model.add(Conv2D(32,kernel_size = (3,3),activation = 'relu',input_shape=(100,200,3),padding='Same'))\n",
        "model.add(MaxPooling2D((2,2),padding='same'))\n",
        "model.add(Dropout(0.25))\n",
        "\n",
        "#64 lan tich chap\n",
        "model.add(Conv2D(64,(3,3),activation ='relu',padding ='same'))\n",
        "model.add(MaxPooling2D((2,2),padding='same'))\n",
        "model.add(Dropout(0.25))\n",
        "\n",
        "#128 lan tich chap\n",
        "model.add(Conv2D(128,(3,3),activation ='relu',padding ='same'))\n",
        "model.add(MaxPooling2D((2,2),padding='same'))\n",
        "model.add(Dropout(0.25))\n",
        "\n",
        "model.add(Flatten())\n",
        "model.add(Dense(64,activation = 'relu'))\n",
        "model.add(Dropout(0.25))\n",
        "model.add(Dense(10,activation='softmax'))\n",
        "# train mô hình\n",
        "model.compile(loss = categorical_crossentropy,optimizer = Adam(),metrics=['accuracy'])\n",
        "model.summary()\n",
        "train = model.fit(x_train,y_train,batch_size=32,epochs = 50,verbose = 1)\n"
      ],
      "metadata": {
        "colab": {
          "base_uri": "https://localhost:8080/"
        },
        "id": "kzd178DmsY1Z",
        "outputId": "fa0666a3-b72e-42f1-f1c5-1c010982446c"
      },
      "execution_count": 11,
      "outputs": [
        {
          "output_type": "stream",
          "name": "stdout",
          "text": [
            "Model: \"sequential\"\n",
            "_________________________________________________________________\n",
            " Layer (type)                Output Shape              Param #   \n",
            "=================================================================\n",
            " conv2d (Conv2D)             (None, 100, 200, 32)      896       \n",
            "                                                                 \n",
            " max_pooling2d (MaxPooling2D  (None, 50, 100, 32)      0         \n",
            " )                                                               \n",
            "                                                                 \n",
            " dropout (Dropout)           (None, 50, 100, 32)       0         \n",
            "                                                                 \n",
            " conv2d_1 (Conv2D)           (None, 50, 100, 64)       18496     \n",
            "                                                                 \n",
            " max_pooling2d_1 (MaxPooling  (None, 25, 50, 64)       0         \n",
            " 2D)                                                             \n",
            "                                                                 \n",
            " dropout_1 (Dropout)         (None, 25, 50, 64)        0         \n",
            "                                                                 \n",
            " conv2d_2 (Conv2D)           (None, 25, 50, 128)       73856     \n",
            "                                                                 \n",
            " max_pooling2d_2 (MaxPooling  (None, 13, 25, 128)      0         \n",
            " 2D)                                                             \n",
            "                                                                 \n",
            " dropout_2 (Dropout)         (None, 13, 25, 128)       0         \n",
            "                                                                 \n",
            " flatten (Flatten)           (None, 41600)             0         \n",
            "                                                                 \n",
            " dense (Dense)               (None, 64)                2662464   \n",
            "                                                                 \n",
            " dropout_3 (Dropout)         (None, 64)                0         \n",
            "                                                                 \n",
            " dense_1 (Dense)             (None, 10)                650       \n",
            "                                                                 \n",
            "=================================================================\n",
            "Total params: 2,756,362\n",
            "Trainable params: 2,756,362\n",
            "Non-trainable params: 0\n",
            "_________________________________________________________________\n",
            "Epoch 1/50\n",
            "16/16 [==============================] - 11s 64ms/step - loss: 2.2565 - accuracy: 0.1882\n",
            "Epoch 2/50\n",
            "16/16 [==============================] - 1s 31ms/step - loss: 1.8040 - accuracy: 0.2235\n",
            "Epoch 3/50\n",
            "16/16 [==============================] - 1s 32ms/step - loss: 1.6449 - accuracy: 0.3078\n",
            "Epoch 4/50\n",
            "16/16 [==============================] - 0s 31ms/step - loss: 1.5230 - accuracy: 0.4098\n",
            "Epoch 5/50\n",
            "16/16 [==============================] - 1s 33ms/step - loss: 1.3078 - accuracy: 0.4412\n",
            "Epoch 6/50\n",
            "16/16 [==============================] - 1s 33ms/step - loss: 1.1852 - accuracy: 0.5412\n",
            "Epoch 7/50\n",
            "16/16 [==============================] - 1s 34ms/step - loss: 0.9951 - accuracy: 0.6078\n",
            "Epoch 8/50\n",
            "16/16 [==============================] - 1s 35ms/step - loss: 0.8305 - accuracy: 0.6725\n",
            "Epoch 9/50\n",
            "16/16 [==============================] - 1s 35ms/step - loss: 0.6145 - accuracy: 0.7745\n",
            "Epoch 10/50\n",
            "16/16 [==============================] - 1s 34ms/step - loss: 0.5645 - accuracy: 0.8000\n",
            "Epoch 11/50\n",
            "16/16 [==============================] - 1s 35ms/step - loss: 0.5005 - accuracy: 0.8118\n",
            "Epoch 12/50\n",
            "16/16 [==============================] - 1s 34ms/step - loss: 0.3669 - accuracy: 0.8745\n",
            "Epoch 13/50\n",
            "16/16 [==============================] - 1s 32ms/step - loss: 0.3634 - accuracy: 0.8725\n",
            "Epoch 14/50\n",
            "16/16 [==============================] - 1s 32ms/step - loss: 0.3242 - accuracy: 0.8902\n",
            "Epoch 15/50\n",
            "16/16 [==============================] - 1s 32ms/step - loss: 0.3406 - accuracy: 0.8941\n",
            "Epoch 16/50\n",
            "16/16 [==============================] - 1s 32ms/step - loss: 0.3060 - accuracy: 0.8902\n",
            "Epoch 17/50\n",
            "16/16 [==============================] - 1s 32ms/step - loss: 0.2753 - accuracy: 0.8980\n",
            "Epoch 18/50\n",
            "16/16 [==============================] - 1s 32ms/step - loss: 0.2045 - accuracy: 0.9275\n",
            "Epoch 19/50\n",
            "16/16 [==============================] - 1s 32ms/step - loss: 0.2218 - accuracy: 0.9275\n",
            "Epoch 20/50\n",
            "16/16 [==============================] - 1s 32ms/step - loss: 0.2630 - accuracy: 0.9078\n",
            "Epoch 21/50\n",
            "16/16 [==============================] - 1s 32ms/step - loss: 0.1626 - accuracy: 0.9392\n",
            "Epoch 22/50\n",
            "16/16 [==============================] - 1s 33ms/step - loss: 0.1791 - accuracy: 0.9196\n",
            "Epoch 23/50\n",
            "16/16 [==============================] - 1s 33ms/step - loss: 0.2353 - accuracy: 0.9020\n",
            "Epoch 24/50\n",
            "16/16 [==============================] - 1s 32ms/step - loss: 0.2165 - accuracy: 0.9176\n",
            "Epoch 25/50\n",
            "16/16 [==============================] - 1s 32ms/step - loss: 0.1517 - accuracy: 0.9549\n",
            "Epoch 26/50\n",
            "16/16 [==============================] - 1s 32ms/step - loss: 0.1199 - accuracy: 0.9510\n",
            "Epoch 27/50\n",
            "16/16 [==============================] - 1s 32ms/step - loss: 0.1459 - accuracy: 0.9431\n",
            "Epoch 28/50\n",
            "16/16 [==============================] - 1s 32ms/step - loss: 0.1253 - accuracy: 0.9529\n",
            "Epoch 29/50\n",
            "16/16 [==============================] - 1s 33ms/step - loss: 0.1743 - accuracy: 0.9412\n",
            "Epoch 30/50\n",
            "16/16 [==============================] - 1s 32ms/step - loss: 0.2223 - accuracy: 0.9235\n",
            "Epoch 31/50\n",
            "16/16 [==============================] - 1s 35ms/step - loss: 0.1723 - accuracy: 0.9275\n",
            "Epoch 32/50\n",
            "16/16 [==============================] - 1s 35ms/step - loss: 0.1334 - accuracy: 0.9431\n",
            "Epoch 33/50\n",
            "16/16 [==============================] - 1s 36ms/step - loss: 0.1843 - accuracy: 0.9314\n",
            "Epoch 34/50\n",
            "16/16 [==============================] - 1s 35ms/step - loss: 0.1585 - accuracy: 0.9451\n",
            "Epoch 35/50\n",
            "16/16 [==============================] - 1s 34ms/step - loss: 0.1425 - accuracy: 0.9608\n",
            "Epoch 36/50\n",
            "16/16 [==============================] - 1s 34ms/step - loss: 0.0958 - accuracy: 0.9745\n",
            "Epoch 37/50\n",
            "16/16 [==============================] - 1s 33ms/step - loss: 0.0866 - accuracy: 0.9627\n",
            "Epoch 38/50\n",
            "16/16 [==============================] - 1s 33ms/step - loss: 0.1012 - accuracy: 0.9627\n",
            "Epoch 39/50\n",
            "16/16 [==============================] - 1s 33ms/step - loss: 0.0857 - accuracy: 0.9686\n",
            "Epoch 40/50\n",
            "16/16 [==============================] - 1s 33ms/step - loss: 0.0686 - accuracy: 0.9765\n",
            "Epoch 41/50\n",
            "16/16 [==============================] - 1s 33ms/step - loss: 0.0826 - accuracy: 0.9667\n",
            "Epoch 42/50\n",
            "16/16 [==============================] - 1s 33ms/step - loss: 0.1073 - accuracy: 0.9569\n",
            "Epoch 43/50\n",
            "16/16 [==============================] - 1s 33ms/step - loss: 0.0869 - accuracy: 0.9569\n",
            "Epoch 44/50\n",
            "16/16 [==============================] - 1s 33ms/step - loss: 0.0724 - accuracy: 0.9725\n",
            "Epoch 45/50\n",
            "16/16 [==============================] - 1s 33ms/step - loss: 0.1031 - accuracy: 0.9627\n",
            "Epoch 46/50\n",
            "16/16 [==============================] - 1s 32ms/step - loss: 0.0955 - accuracy: 0.9608\n",
            "Epoch 47/50\n",
            "16/16 [==============================] - 1s 33ms/step - loss: 0.0803 - accuracy: 0.9765\n",
            "Epoch 48/50\n",
            "16/16 [==============================] - 1s 33ms/step - loss: 0.1037 - accuracy: 0.9667\n",
            "Epoch 49/50\n",
            "16/16 [==============================] - 1s 33ms/step - loss: 0.0678 - accuracy: 0.9725\n",
            "Epoch 50/50\n",
            "16/16 [==============================] - 1s 33ms/step - loss: 0.0689 - accuracy: 0.9725\n"
          ]
        }
      ]
    },
    {
      "cell_type": "code",
      "source": [
        "#lưu mô hình vừa train\n",
        "model.save('hoc_hinh_tien.h5')"
      ],
      "metadata": {
        "id": "IkiVh9Fysd0-"
      },
      "execution_count": 12,
      "outputs": []
    },
    {
      "cell_type": "code",
      "source": [
        "model5=load_model('/content/hoc_hinh_tien.h5')"
      ],
      "metadata": {
        "id": "s6tN7_r6sxC-"
      },
      "execution_count": 15,
      "outputs": []
    },
    {
      "cell_type": "code",
      "source": [
        "vat = {1: '5000',2:'10000', 3:'20000', 4:'50000', 5:'100000', 6:'500000' }\n",
        "img = load_img(\"/content/drive/MyDrive/FaceValueOfMoney/100k (10).jpg\",target_size=(100,200))\n",
        "plt.imshow(img)\n",
        "img = img_to_array(img)\n",
        "img=img.reshape(1,100,200,3)\n",
        "img = img.astype('float32')\n",
        "img =img/255\n",
        "result  = np.argmax(model.predict(img),axis=1)\n",
        "vat[result[0]]"
      ],
      "metadata": {
        "colab": {
          "base_uri": "https://localhost:8080/",
          "height": 348
        },
        "id": "kEw0rk-qtznX",
        "outputId": "030a868e-4dbf-48fe-8675-97305a775ac2"
      },
      "execution_count": 16,
      "outputs": [
        {
          "output_type": "stream",
          "name": "stdout",
          "text": [
            "1/1 [==============================] - 0s 204ms/step\n"
          ]
        },
        {
          "output_type": "execute_result",
          "data": {
            "text/plain": [
              "'100000'"
            ],
            "application/vnd.google.colaboratory.intrinsic+json": {
              "type": "string"
            }
          },
          "metadata": {},
          "execution_count": 16
        },
        {
          "output_type": "display_data",
          "data": {
            "text/plain": [
              "<Figure size 640x480 with 1 Axes>"
            ],
            "image/png": "[encoded data removed]"
          },
          "metadata": {}
        }
      ]
    },
    {
      "cell_type": "code",
      "source": [
        "img = load_img(\"/content/drive/MyDrive/FaceValueOfMoney/500k (5)(1).jpg\",target_size=(100,200))\n",
        "plt.imshow(img)\n",
        "img = img_to_array(img)\n",
        "img=img.reshape(1,100,200,3)\n",
        "img = img.astype('float32')\n",
        "img =img/255\n",
        "result  = np.argmax(model.predict(img),axis=1)\n",
        "vat[result[0]]"
      ],
      "metadata": {
        "colab": {
          "base_uri": "https://localhost:8080/",
          "height": 348
        },
        "id": "ERMO9xkfu7Mh",
        "outputId": "726d3b19-f5c2-49fd-9ee2-e721fc164e04"
      },
      "execution_count": 17,
      "outputs": [
        {
          "output_type": "stream",
          "name": "stdout",
          "text": [
            "1/1 [==============================] - 0s 30ms/step\n"
          ]
        },
        {
          "output_type": "execute_result",
          "data": {
            "text/plain": [
              "'500000'"
            ],
            "application/vnd.google.colaboratory.intrinsic+json": {
              "type": "string"
            }
          },
          "metadata": {},
          "execution_count": 17
        },
        {
          "output_type": "display_data",
          "data": {
            "text/plain": [
              "<Figure size 640x480 with 1 Axes>"
            ],
            "image/png": "[encoded data removed]"
          },
          "metadata": {}
        }
      ]
    },
    {
      "cell_type": "code",
      "source": [],
      "metadata": {
        "id": "ADMm0Y4Gw4n-"
      },
      "execution_count": null,
      "outputs": []
    }
  ]
}